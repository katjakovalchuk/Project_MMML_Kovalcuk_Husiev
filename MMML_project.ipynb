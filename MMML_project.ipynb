{
  "nbformat": 4,
  "nbformat_minor": 0,
  "metadata": {
    "colab": {
      "provenance": [],
      "collapsed_sections": [
        "CbLowWh3Y9dA",
        "PvNU6ducY95b",
        "ZyQPgdjwZByl"
      ]
    },
    "kernelspec": {
      "name": "python3",
      "display_name": "Python 3"
    },
    "language_info": {
      "name": "python"
    }
  },
  "cells": [
    {
      "cell_type": "markdown",
      "source": [
        "# Imports"
      ],
      "metadata": {
        "id": "WbrGmFDAIA-_"
      }
    },
    {
      "cell_type": "code",
      "source": [
        "import torch\n",
        "import torch.nn as nn\n",
        "import torch.nn.functional as F\n",
        "import torch.optim as optim\n",
        "from torch.utils.data import DataLoader, Dataset, Subset\n",
        "from torchvision import datasets, transforms\n",
        "import matplotlib.pyplot as plt\n",
        "import numpy as np\n",
        "import os\n",
        "import math\n",
        "import copy"
      ],
      "metadata": {
        "id": "8WoyIjtf84LP"
      },
      "execution_count": 1,
      "outputs": []
    },
    {
      "cell_type": "code",
      "source": [
        "from google.colab import drive\n",
        "\n",
        "mount = \"/content/drive\"\n",
        "drive.mount(mount)\n",
        "project_dir = f\"{mount}/MyDrive/mmml/project\"\n",
        "\n",
        "os.makedirs(project_dir, exist_ok=True)\n",
        "print(f\"Using project directory: {project_dir}\")"
      ],
      "metadata": {
        "colab": {
          "base_uri": "https://localhost:8080/"
        },
        "id": "3CelliFK-Atu",
        "outputId": "98f3720c-6784-49d8-fed2-2979d27bd2da"
      },
      "execution_count": 2,
      "outputs": [
        {
          "output_type": "stream",
          "name": "stdout",
          "text": [
            "Mounted at /content/drive\n",
            "Using project directory: /content/drive/MyDrive/mmml/project\n"
          ]
        }
      ]
    },
    {
      "cell_type": "markdown",
      "source": [
        "# Models"
      ],
      "metadata": {
        "id": "wWEfRbxaH-xa"
      }
    },
    {
      "cell_type": "code",
      "execution_count": 3,
      "metadata": {
        "id": "z4YaTuKR82qp"
      },
      "outputs": [],
      "source": [
        "class DenseNetwork(nn.Module):\n",
        "    def __init__(\n",
        "        self,\n",
        "        input_dim: int,\n",
        "        hidden_dims: list[int],\n",
        "        output_dim: int,\n",
        "        dropout_rate: float = 0.2,\n",
        "    ):\n",
        "        super(DenseNetwork, self).__init__()\n",
        "        self.input_dim = input_dim\n",
        "        self.output_dim = output_dim\n",
        "\n",
        "        layers = []\n",
        "        current_dim = input_dim\n",
        "\n",
        "        layers.append(nn.Flatten())\n",
        "\n",
        "        layers.append(nn.Linear(current_dim, hidden_dims[0]))\n",
        "        layers.append(nn.ReLU())\n",
        "        layers.append(nn.Dropout(dropout_rate))\n",
        "        current_dim = hidden_dims[0]\n",
        "\n",
        "        for i in range(len(hidden_dims) - 1):\n",
        "            layers.append(nn.Linear(current_dim, hidden_dims[i + 1]))\n",
        "            layers.append(nn.ReLU())\n",
        "            layers.append(nn.Dropout(dropout_rate))\n",
        "            current_dim = hidden_dims[i + 1]\n",
        "\n",
        "        layers.append(nn.Linear(current_dim, output_dim))\n",
        "\n",
        "        self.sequential = nn.Sequential(*layers)\n",
        "\n",
        "    def forward(self, x):\n",
        "        return self.sequential(x)"
      ]
    },
    {
      "cell_type": "markdown",
      "source": [
        "# Trainer"
      ],
      "metadata": {
        "id": "nKBCCgc8IETQ"
      }
    },
    {
      "cell_type": "code",
      "source": [
        "class ModelTrainer:\n",
        "    def __init__(\n",
        "        self,\n",
        "        model: nn.Module,\n",
        "        train_loader: DataLoader,\n",
        "        val_loader: DataLoader,\n",
        "        criterion: nn.Module,\n",
        "        optimizer: torch.optim.Optimizer,\n",
        "        device: torch.device,\n",
        "        save_dir: str | None,\n",
        "    ):\n",
        "        self.model = model\n",
        "        self.train_loader = train_loader\n",
        "        self.val_loader = val_loader\n",
        "        self.criterion = criterion\n",
        "        self.optimizer = optimizer\n",
        "        self.device = device\n",
        "        self.save_dir = save_dir\n",
        "\n",
        "        if save_dir is not None:\n",
        "            os.makedirs(self.save_dir, exist_ok=True)\n",
        "            print(f\"Model will be saved in: {self.save_dir}\")\n",
        "        else:\n",
        "            print(\"Model will not be saved to disk\")\n",
        "\n",
        "\n",
        "    def train_epoch(self, accumulate_gradients: bool = False) -> tuple[float, float]:\n",
        "        self.model.train()\n",
        "        running_loss = 0.0\n",
        "        correct = 0\n",
        "        total = 0\n",
        "\n",
        "        for inputs, targets in self.train_loader:\n",
        "            inputs, targets = inputs.to(self.device), targets.to(self.device)\n",
        "\n",
        "            self.optimizer.zero_grad()\n",
        "\n",
        "            outputs = self.model(inputs)\n",
        "            loss = self.criterion(outputs, targets)\n",
        "\n",
        "            loss.backward()\n",
        "            if accumulate_gradients:\n",
        "                self.model.accumulate_gradients()\n",
        "            self.optimizer.step()\n",
        "\n",
        "            running_loss += loss.item() * inputs.size(0)\n",
        "            _, predicted = outputs.max(1)\n",
        "            total += targets.size(0)\n",
        "            correct += predicted.eq(targets).sum().item()\n",
        "\n",
        "        epoch_loss = running_loss / total if total > 0 else 0.0\n",
        "        epoch_acc = correct / total if total > 0 else 0.0\n",
        "        return epoch_loss, epoch_acc\n",
        "\n",
        "    def validate(self) -> tuple[float, float]:\n",
        "        self.model.eval()\n",
        "        running_loss = 0.0\n",
        "        correct = 0\n",
        "        total = 0\n",
        "\n",
        "        with torch.no_grad():\n",
        "            for inputs, targets in self.val_loader:\n",
        "                inputs, targets = inputs.to(self.device), targets.to(self.device)\n",
        "\n",
        "                outputs = self.model(inputs)\n",
        "                loss = self.criterion(outputs, targets)\n",
        "\n",
        "                running_loss += loss.item() * inputs.size(0)\n",
        "                _, predicted = outputs.max(1)\n",
        "                total += targets.size(0)\n",
        "                correct += predicted.eq(targets).sum().item()\n",
        "\n",
        "        val_loss = running_loss / total if total > 0 else 0.0\n",
        "        val_acc = correct / total if total > 0 else 0.0\n",
        "        return val_loss, val_acc\n",
        "\n",
        "    def train(self, epochs: int, early_stopping_patience: int | None = None, accumulate_gradients: bool = False) -> dict[str, list[float]]:\n",
        "        history = {\"train_loss\": [], \"train_acc\": [], \"val_loss\": [], \"val_acc\": []}\n",
        "\n",
        "        best_val_loss = float(\"inf\")\n",
        "        patience_counter = 0\n",
        "        best_epoch = 0\n",
        "\n",
        "        for epoch in range(1, epochs + 1):\n",
        "            train_loss, train_acc = self.train_epoch(accumulate_gradients=accumulate_gradients)\n",
        "            val_loss, val_acc = self.validate()\n",
        "\n",
        "            history[\"train_loss\"].append(train_loss)\n",
        "            history[\"train_acc\"].append(train_acc)\n",
        "            history[\"val_loss\"].append(val_loss)\n",
        "            history[\"val_acc\"].append(val_acc)\n",
        "\n",
        "            print(\n",
        "                f\"Epoch {epoch}/{epochs}: \"\n",
        "                f\"Train Loss: {train_loss:.4f}, Train Acc: {train_acc:.4f}, \"\n",
        "                f\"Val Loss: {val_loss:.4f}, Val Acc: {val_acc:.4f}\"\n",
        "            )\n",
        "\n",
        "            if val_loss < best_val_loss:\n",
        "                best_val_loss = val_loss\n",
        "                best_epoch = epoch\n",
        "                patience_counter = 0\n",
        "                if self.save_dir is not None:\n",
        "                    self.save_model(\"best_model.pt\")\n",
        "            else:\n",
        "                patience_counter += 1\n",
        "\n",
        "            if (\n",
        "                early_stopping_patience is not None\n",
        "                and patience_counter >= early_stopping_patience\n",
        "            ):\n",
        "                print(\n",
        "                    f\"Early stopping triggered after {epoch} epochs. Best validation loss {best_val_loss:.4f} at epoch {best_epoch}.\"\n",
        "                )\n",
        "                break\n",
        "\n",
        "        if self.save_dir:\n",
        "            self.save_model(\"final_model.pt\")\n",
        "\n",
        "        return history\n",
        "\n",
        "    def save_model(self, filename: str):\n",
        "        model_path = os.path.join(self.save_dir, filename)\n",
        "        model_info = {\n",
        "            'model_class': self.model.__class__.__name__,\n",
        "            'input_dim': getattr(self.model, 'input_dim', None),\n",
        "            'output_dim': getattr(self.model, 'output_dim', None),\n",
        "            'hidden_dims': getattr(self.model, 'hidden_dims', None),\n",
        "            'model_state_dict': self.model.state_dict(),\n",
        "            'optimizer_state_dict': self.optimizer.state_dict(),\n",
        "        }\n",
        "        try:\n",
        "            torch.save(model_info, model_path)\n",
        "            print(f\"Model saved to {model_path}\")\n",
        "        except Exception as e:\n",
        "             print(f\"Error saving model to {model_path}: {e}\")\n",
        "\n",
        "\n",
        "    def load_model(self, filename: str):\n",
        "        model_path = os.path.join(self.save_dir, filename)\n",
        "        if not os.path.exists(model_path):\n",
        "            print(f\"Model file {model_path} does not exist.\")\n",
        "            return False\n",
        "\n",
        "        try:\n",
        "            model_info = torch.load(model_path, map_location=self.device)\n",
        "\n",
        "            self.model.load_state_dict(model_info[\"model_state_dict\"])\n",
        "            try:\n",
        "                self.optimizer.load_state_dict(model_info[\"optimizer_state_dict\"])\n",
        "            except ValueError as e:\n",
        "                print(f\"Warning: Could not load optimizer state dict, possibly due to model/optimizer changes: {e}\")\n",
        "                print(\"Optimizer state not loaded. Consider re-initializing the optimizer.\")\n",
        "\n",
        "            print(f\"Model loaded from {model_path}\")\n",
        "            self.model.to(self.device)\n",
        "            return True\n",
        "        except Exception as e:\n",
        "             print(f\"Error loading model from {model_path}: {e}\")\n",
        "             return False\n",
        "\n",
        "    def plot_history(self, history: dict[str, list[float]], save_filename=\"training_history.png\"):\n",
        "        fig, (ax1, ax2) = plt.subplots(1, 2, figsize=(15, 5))\n",
        "\n",
        "        epochs_ran = range(1, len(history['train_loss']) + 1)\n",
        "\n",
        "        ax1.plot(epochs_ran, history[\"train_loss\"], label=\"Train Loss\")\n",
        "        ax1.plot(epochs_ran, history[\"val_loss\"], label=\"Validation Loss\")\n",
        "        ax1.set_title(\"Loss\")\n",
        "        ax1.set_xlabel(\"Epoch\")\n",
        "        ax1.set_ylabel(\"Loss\")\n",
        "        ax1.legend()\n",
        "        ax1.grid(True)\n",
        "\n",
        "        ax2.plot(epochs_ran, history[\"train_acc\"], label=\"Train Accuracy\")\n",
        "        ax2.plot(epochs_ran, history[\"val_acc\"], label=\"Validation Accuracy\")\n",
        "        ax2.set_title(\"Accuracy\")\n",
        "        ax2.set_xlabel(\"Epoch\")\n",
        "        ax2.set_ylabel(\"Accuracy\")\n",
        "        ax2.legend()\n",
        "        ax2.grid(True)\n",
        "\n",
        "        plt.tight_layout()\n",
        "        save_path = os.path.join(self.save_dir, save_filename)\n",
        "        try:\n",
        "            plt.savefig(save_path)\n",
        "            print(f\"Training history plot saved to {save_path}\")\n",
        "        except Exception as e:\n",
        "            print(f\"Error saving plot to {save_path}: {e}\")\n",
        "        plt.show()"
      ],
      "metadata": {
        "id": "MyjqcM_h88hJ"
      },
      "execution_count": 4,
      "outputs": []
    },
    {
      "cell_type": "markdown",
      "source": [
        "# Evaluation functions"
      ],
      "metadata": {
        "id": "MxsB03ioIHz5"
      }
    },
    {
      "cell_type": "code",
      "source": [
        "def evaluate_model(model, test_loader, criterion, device, num_classes, print_more: bool = True):\n",
        "    model.eval()\n",
        "    test_loss = 0\n",
        "    correct = 0\n",
        "    total = 0\n",
        "\n",
        "    class_correct = [0] * num_classes\n",
        "    class_total = [0] * num_classes\n",
        "\n",
        "    with torch.no_grad():\n",
        "        for inputs, targets in test_loader:\n",
        "            batch_size = inputs.size(0)\n",
        "            inputs, targets = inputs.to(device), targets.to(device)\n",
        "            outputs = model(inputs)\n",
        "            loss = criterion(outputs, targets)\n",
        "\n",
        "            test_loss += loss.item() * inputs.size(0)\n",
        "            _, predicted = outputs.max(1)\n",
        "            total += targets.size(0)\n",
        "            correct += predicted.eq(targets).sum().item()\n",
        "\n",
        "            for i in range(batch_size):\n",
        "                label = targets[i].item()\n",
        "                if 0 <= label < num_classes:\n",
        "                    class_total[label] += 1\n",
        "                    if predicted[i] == label:\n",
        "                        class_correct[label] += 1\n",
        "                else:\n",
        "                    print(f\"Warning: Encountered invalid label {label} during evaluation.\")\n",
        "\n",
        "\n",
        "    test_loss = test_loss / total if total > 0 else 0.0\n",
        "    test_acc = correct / total if total > 0 else 0.0\n",
        "    if print_more:\n",
        "        print(f\"\\n--- Test Set Evaluation ---\")\n",
        "        print(f\"Test Loss: {test_loss:.4f}, Test Accuracy: {test_acc:.4f} ({correct}/{total})\")\n",
        "\n",
        "        print(\"\\nClass-specific Accuracy:\")\n",
        "        for i in range(num_classes):\n",
        "            if class_total[i] > 0:\n",
        "                accuracy = 100 * class_correct[i] / class_total[i]\n",
        "                print(f\"  Class {i}: {accuracy:.2f}% ({class_correct[i]}/{class_total[i]})\")\n",
        "\n",
        "    return test_loss, test_acc\n",
        "\n",
        "\n",
        "def visualize_predictions(model, test_loader, device, num_samples=10, save_dir=\".\", save_filename=\"predictions.png\"):\n",
        "    model.eval()\n",
        "    dataiter = iter(test_loader)\n",
        "    try:\n",
        "        images, labels = next(dataiter)\n",
        "    except StopIteration:\n",
        "        print(\"Test loader is empty, cannot visualize predictions.\")\n",
        "        return\n",
        "\n",
        "    num_samples = min(num_samples, images.size(0))\n",
        "    if num_samples == 0:\n",
        "        print(\"No samples available in the first batch to visualize.\")\n",
        "        return\n",
        "\n",
        "    images = images[:num_samples].to(device)\n",
        "    labels = labels[:num_samples]\n",
        "    outputs = model(images)\n",
        "    _, predictions = torch.max(outputs, 1)\n",
        "\n",
        "    images_cpu = images.cpu()\n",
        "\n",
        "    fig = plt.figure(figsize=(max(12, num_samples * 1.5), 4))\n",
        "    for i in range(num_samples):\n",
        "        ax = fig.add_subplot(1, num_samples, i + 1, xticks=[], yticks=[]) # More compact\n",
        "        img_tensor = images_cpu[i] # Shape: (C, H, W)\n",
        "        img_np = img_tensor.numpy()\n",
        "\n",
        "        if img_np.shape[0] == 1:\n",
        "            img_to_show = np.squeeze(img_np, axis=0)\n",
        "            cmap = \"gray\"\n",
        "        else:\n",
        "            # (C, H, W) -> (H, W, C)\n",
        "            img_to_show = np.transpose(img_np, (1, 2, 0))\n",
        "            img_to_show = np.clip(img_to_show, 0, 1)\n",
        "            cmap = None # matplotlib will handle colors for us\n",
        "\n",
        "        plt.imshow(img_to_show, cmap=cmap)\n",
        "\n",
        "        ax.set_title(f\"Pred: {predictions[i].item()}\\nTrue: {labels[i].item()}\", fontsize=10)\n",
        "\n",
        "    plt.tight_layout(pad=0.5)\n",
        "    save_path = os.path.join(save_dir, save_filename)\n",
        "    try:\n",
        "        plt.savefig(save_path)\n",
        "        print(f\"Predictions visualization saved to {save_path}\")\n",
        "    except Exception as e:\n",
        "        print(f\"Error saving predictions plot: {e}\")\n",
        "\n",
        "    plt.show()"
      ],
      "metadata": {
        "id": "ObaZjRHe8_L6"
      },
      "execution_count": 5,
      "outputs": []
    },
    {
      "cell_type": "code",
      "source": [
        "def get_model_size(model: nn.Module) -> float:\n",
        "    total_params = sum(p.numel() for p in model.parameters())\n",
        "    bytes_size = total_params * 4  # 4 bytes per float32\n",
        "    mib_size = bytes_size / (1024 * 1024)\n",
        "    return mib_size\n",
        "\n",
        "def compare_models(model, test_loader, criterion, device, num_classes, create_model, coefs: list[float], coef_name: str):\n",
        "    loss, acc = evaluate_model(model, test_loader, criterion, device, num_classes, print_more=False)\n",
        "    orig_size = get_model_size(model)\n",
        "    coef_name_len = len(coef_name)\n",
        "    print(f\"| {coef_name} | Size (MiB) | Size (% of orig) | Loss  | Accuracy |\")\n",
        "    print(f\"| {'Original model': <{coef_name_len}} | {orig_size: <10.3f} | 100%             | {loss: <5.3f} | {acc: <8.3f} |\")\n",
        "    for coef in coefs:\n",
        "        cmp_model = create_model(coef)\n",
        "        loss, acc = evaluate_model(cmp_model, test_loader, criterion, device, num_classes, print_more=False)\n",
        "        size = get_model_size(cmp_model)\n",
        "        print(f\"| {coef: <{coef_name_len}%} | {size: <10.3f} | {size/orig_size: <16.3%} | {loss: <5.3f} | {acc: <8.3f} |\")"
      ],
      "metadata": {
        "id": "ebrpu7IEmRh7"
      },
      "execution_count": 6,
      "outputs": []
    },
    {
      "cell_type": "markdown",
      "source": [
        "# Dataset loading functions"
      ],
      "metadata": {
        "id": "mHHxflYpILY1"
      }
    },
    {
      "cell_type": "code",
      "source": [
        "def calculate_mean_std(dataset: Dataset) -> tuple[torch.Tensor, torch.Tensor]:\n",
        "    loader = DataLoader(dataset, batch_size=100, shuffle=False, num_workers=2)\n",
        "    num_channels = 0\n",
        "    mean = torch.tensor(0.)\n",
        "    std = torch.tensor(0.)\n",
        "    total_samples = 0\n",
        "\n",
        "    print(\"Calculating dataset mean and std...\")\n",
        "    first_batch, _ = next(iter(loader))\n",
        "    num_channels = first_batch.size(1)\n",
        "    mean = torch.zeros(num_channels)\n",
        "    std = torch.zeros(num_channels)\n",
        "\n",
        "    for images, _ in loader:\n",
        "        batch_samples = images.size(0)\n",
        "        images = images.view(batch_samples, num_channels, -1)\n",
        "        mean += images.mean(dim=[0, 2]) * batch_samples\n",
        "        std += images.std(dim=[0, 2]) * batch_samples\n",
        "        total_samples += batch_samples\n",
        "\n",
        "    mean /= total_samples\n",
        "    std /= total_samples\n",
        "    print(f\"Calculated - Mean: {mean.tolist()}, Std: {std.tolist()}\")\n",
        "    return mean, std\n",
        "\n",
        "def get_dataset(dataset_name: str, data_root: str = \"./data\", val_split: float = 0.2) -> dict:\n",
        "    dataset_name = dataset_name.lower()\n",
        "    transform_initial = transforms.Compose([transforms.ToTensor()])\n",
        "\n",
        "    if dataset_name == \"mnist\":\n",
        "        temp_train_dataset = datasets.MNIST(root=data_root, train=True, download=True, transform=transform_initial)\n",
        "        test_dataset_raw = datasets.MNIST(root=data_root, train=False, download=True, transform=transform_initial)\n",
        "        num_classes = 10\n",
        "    elif dataset_name == \"cifar10\":\n",
        "        temp_train_dataset = datasets.CIFAR10(root=data_root, train=True, download=True, transform=transform_initial)\n",
        "        test_dataset_raw = datasets.CIFAR10(root=data_root, train=False, download=True, transform=transform_initial)\n",
        "        num_classes = 10\n",
        "    else:\n",
        "        print(f\"Unsupported dataset: {dataset_name}\")\n",
        "        return {}\n",
        "\n",
        "    img, _ = temp_train_dataset[0]\n",
        "    C, H, W = img.shape\n",
        "\n",
        "    if dataset_name == \"mnist\":\n",
        "        mean, std = torch.tensor([0.1307]), torch.tensor([0.3081])\n",
        "    elif dataset_name == \"cifar10\":\n",
        "        mean, std = torch.tensor([0.4914, 0.4822, 0.4465]), torch.tensor([0.2023, 0.1994, 0.2010])\n",
        "    else:\n",
        "        print(f\"Using calculated mean/std for {dataset_name}\")\n",
        "        mean, std = calculate_mean_std(temp_train_dataset)\n",
        "\n",
        "\n",
        "    transform_final = transforms.Compose([\n",
        "        transforms.ToTensor(),\n",
        "        transforms.Normalize(mean=mean.tolist(), std=std.tolist())\n",
        "    ])\n",
        "\n",
        "    if dataset_name == \"mnist\":\n",
        "        train_val_dataset = datasets.MNIST(root=data_root, train=True, download=False, transform=transform_final)\n",
        "        test_dataset = datasets.MNIST(root=data_root, train=False, download=False, transform=transform_final)\n",
        "    elif dataset_name == \"cifar10\":\n",
        "        train_val_dataset = datasets.CIFAR10(root=data_root, train=True, download=False, transform=transform_final)\n",
        "        test_dataset = datasets.CIFAR10(root=data_root, train=False, download=False, transform=transform_final)\n",
        "\n",
        "    num_train_val = len(train_val_dataset)\n",
        "    indices = list(range(num_train_val))\n",
        "    split = int(np.floor(val_split * num_train_val))\n",
        "    np.random.shuffle(indices)\n",
        "    train_idx, val_idx = indices[split:], indices[:split]\n",
        "\n",
        "    train_dataset = Subset(train_val_dataset, train_idx)\n",
        "    val_dataset = Subset(train_val_dataset, val_idx)\n",
        "\n",
        "    print(f\"Dataset: {dataset_name.upper()}\")\n",
        "    print(f\"  Image Dimensions: C={C}, H={H}, W={W}\")\n",
        "    print(f\"  Number of Classes: {num_classes}\")\n",
        "    print(f\"  Training samples: {len(train_dataset)}\")\n",
        "    print(f\"  Validation samples: {len(val_dataset)}\")\n",
        "    print(f\"  Test samples: {len(test_dataset)}\")\n",
        "    print(f\"  Normalization - Mean: {mean.tolist()}, Std: {std.tolist()}\")\n",
        "\n",
        "\n",
        "    return {\n",
        "        \"train\": train_dataset,\n",
        "        \"validation\": val_dataset,\n",
        "        \"test\": test_dataset,\n",
        "        \"num_classes\": num_classes,\n",
        "        \"channels\": C,\n",
        "        \"height\": H,\n",
        "        \"width\": W,\n",
        "        \"transform\": transform_final\n",
        "    }\n",
        "\n",
        "\n",
        "def get_class_subset(dataset, classes_to_keep):\n",
        "    if isinstance(dataset, Subset):\n",
        "        original_dataset = dataset.dataset\n",
        "        original_indices = dataset.indices\n",
        "\n",
        "        subset_indices = []\n",
        "        for idx in original_indices:\n",
        "            _, label = original_dataset[idx]\n",
        "            if label in classes_to_keep:\n",
        "                subset_indices.append(idx)\n",
        "\n",
        "        return Subset(original_dataset, subset_indices)\n",
        "    else:\n",
        "        indices = []\n",
        "        for i in range(len(dataset)):\n",
        "            _, label = dataset[i]\n",
        "            if label in classes_to_keep:\n",
        "                indices.append(i)\n",
        "\n",
        "        return Subset(dataset, indices)"
      ],
      "metadata": {
        "id": "ZQTehO4IFLA4"
      },
      "execution_count": 7,
      "outputs": []
    },
    {
      "cell_type": "markdown",
      "source": [
        "# Setup"
      ],
      "metadata": {
        "id": "RlT5TpIoIOK2"
      }
    },
    {
      "cell_type": "code",
      "source": [
        "torch.manual_seed(42)\n",
        "np.random.seed(42)\n",
        "\n",
        "device = torch.device(\"cuda\" if torch.cuda.is_available() else \"cpu\")\n",
        "print(f\"Using device: {device}\")"
      ],
      "metadata": {
        "colab": {
          "base_uri": "https://localhost:8080/"
        },
        "id": "j2gemjJX9CKr",
        "outputId": "0b3b96d7-bb3b-4fb3-e484-7d56b1a6c543"
      },
      "execution_count": 8,
      "outputs": [
        {
          "output_type": "stream",
          "name": "stdout",
          "text": [
            "Using device: cpu\n"
          ]
        }
      ]
    },
    {
      "cell_type": "code",
      "source": [
        "DATASET_NAME = \"mnist\" # Also can be \"cifar10\"\n",
        "DATA_ROOT = \"./data\"\n",
        "BATCH_SIZE = 64\n",
        "LEARNING_RATE = 0.001\n",
        "EPOCHS = 10\n",
        "EARLY_STOPPING_PATIENCE = 3\n",
        "HIDDEN_DIMS = [256, 128]\n",
        "DROPOUT_RATE = 0.3\n",
        "MODEL_SAVE_SUBDIR = f\"model_{DATASET_NAME}_dense\"\n",
        "\n",
        "run_save_dir = os.path.join(project_dir, MODEL_SAVE_SUBDIR)\n",
        "os.makedirs(run_save_dir, exist_ok=True)"
      ],
      "metadata": {
        "id": "xehuybqRF7Vs"
      },
      "execution_count": 9,
      "outputs": []
    },
    {
      "cell_type": "code",
      "source": [
        "dataset_info = get_dataset(DATASET_NAME, data_root=DATA_ROOT, val_split=0.2)\n",
        "train_dataset = dataset_info[\"train\"]\n",
        "val_dataset = dataset_info[\"validation\"]\n",
        "test_dataset = dataset_info[\"test\"]\n",
        "num_classes = dataset_info[\"num_classes\"]\n",
        "C, H, W = dataset_info[\"channels\"], dataset_info[\"height\"], dataset_info[\"width\"]\n",
        "\n",
        "train_loader = DataLoader(train_dataset, batch_size=BATCH_SIZE, shuffle=True, num_workers=2, pin_memory=True if device==\"cuda\" else False)\n",
        "val_loader = DataLoader(val_dataset, batch_size=BATCH_SIZE, shuffle=False, num_workers=2, pin_memory=True if device==\"cuda\" else False)\n",
        "test_loader = DataLoader(test_dataset, batch_size=BATCH_SIZE, shuffle=False, num_workers=2, pin_memory=True if device==\"cuda\" else False)\n",
        "\n",
        "input_dim = C * H * W\n",
        "output_dim = num_classes"
      ],
      "metadata": {
        "colab": {
          "base_uri": "https://localhost:8080/"
        },
        "id": "P33NsZST9k0K",
        "outputId": "aedaf6ba-64f6-44b6-9992-46722da93df3"
      },
      "execution_count": 10,
      "outputs": [
        {
          "output_type": "stream",
          "name": "stderr",
          "text": [
            "100%|██████████| 9.91M/9.91M [00:00<00:00, 17.9MB/s]\n",
            "100%|██████████| 28.9k/28.9k [00:00<00:00, 496kB/s]\n",
            "100%|██████████| 1.65M/1.65M [00:00<00:00, 4.55MB/s]\n",
            "100%|██████████| 4.54k/4.54k [00:00<00:00, 3.76MB/s]"
          ]
        },
        {
          "output_type": "stream",
          "name": "stdout",
          "text": [
            "Dataset: MNIST\n",
            "  Image Dimensions: C=1, H=28, W=28\n",
            "  Number of Classes: 10\n",
            "  Training samples: 48000\n",
            "  Validation samples: 12000\n",
            "  Test samples: 10000\n",
            "  Normalization - Mean: [0.1307000070810318], Std: [0.30809998512268066]\n"
          ]
        },
        {
          "output_type": "stream",
          "name": "stderr",
          "text": [
            "\n"
          ]
        }
      ]
    },
    {
      "cell_type": "markdown",
      "source": [
        "# Create model"
      ],
      "metadata": {
        "id": "9Cp_07YwsxwX"
      }
    },
    {
      "cell_type": "code",
      "source": [
        "model = DenseNetwork(\n",
        "    input_dim=input_dim,\n",
        "    hidden_dims=HIDDEN_DIMS,\n",
        "    output_dim=output_dim,\n",
        "    dropout_rate=DROPOUT_RATE\n",
        ").to(device)\n",
        "print(\"\\n--- Model Architecture ---\")\n",
        "print(model)\n",
        "print(f\"Input Dim: {input_dim}, Output Dim: {output_dim}\")"
      ],
      "metadata": {
        "colab": {
          "base_uri": "https://localhost:8080/"
        },
        "id": "Eb3skot3Gc2C",
        "outputId": "c89bbffc-493f-4e48-c295-1664adacac1d"
      },
      "execution_count": 11,
      "outputs": [
        {
          "output_type": "stream",
          "name": "stdout",
          "text": [
            "\n",
            "--- Model Architecture ---\n",
            "DenseNetwork(\n",
            "  (sequential): Sequential(\n",
            "    (0): Flatten(start_dim=1, end_dim=-1)\n",
            "    (1): Linear(in_features=784, out_features=256, bias=True)\n",
            "    (2): ReLU()\n",
            "    (3): Dropout(p=0.3, inplace=False)\n",
            "    (4): Linear(in_features=256, out_features=128, bias=True)\n",
            "    (5): ReLU()\n",
            "    (6): Dropout(p=0.3, inplace=False)\n",
            "    (7): Linear(in_features=128, out_features=10, bias=True)\n",
            "  )\n",
            ")\n",
            "Input Dim: 784, Output Dim: 10\n"
          ]
        }
      ]
    },
    {
      "cell_type": "code",
      "source": [
        "criterion = nn.CrossEntropyLoss()\n",
        "optimizer = optim.Adam(model.parameters(), lr=LEARNING_RATE)"
      ],
      "metadata": {
        "id": "YsAbfA6XGevY"
      },
      "execution_count": 12,
      "outputs": []
    },
    {
      "cell_type": "code",
      "source": [
        "trainer = ModelTrainer(\n",
        "    model=model,\n",
        "    train_loader=train_loader,\n",
        "    val_loader=val_loader,\n",
        "    criterion=criterion,\n",
        "    optimizer=optimizer,\n",
        "    device=device,\n",
        "    save_dir=run_save_dir\n",
        ")"
      ],
      "metadata": {
        "colab": {
          "base_uri": "https://localhost:8080/"
        },
        "id": "6h1VWb6_GggN",
        "outputId": "b7999a44-279f-4a03-a224-c3c90094619d"
      },
      "execution_count": 13,
      "outputs": [
        {
          "output_type": "stream",
          "name": "stdout",
          "text": [
            "Model will be saved in: /content/drive/MyDrive/mmml/project/model_mnist_dense\n"
          ]
        }
      ]
    },
    {
      "cell_type": "markdown",
      "source": [
        "# Train"
      ],
      "metadata": {
        "id": "NmNEKIkOtMTS"
      }
    },
    {
      "cell_type": "code",
      "source": [
        "history = trainer.train(epochs=EPOCHS, early_stopping_patience=EARLY_STOPPING_PATIENCE)"
      ],
      "metadata": {
        "colab": {
          "base_uri": "https://localhost:8080/"
        },
        "id": "2ppe8tPoGlGL",
        "outputId": "ac2d19f2-a0a1-4d23-a395-fc473bdc0f3c"
      },
      "execution_count": null,
      "outputs": [
        {
          "output_type": "stream",
          "name": "stdout",
          "text": [
            "Epoch 1/10: Train Loss: 0.3411, Train Acc: 0.8952, Val Loss: 0.1522, Val Acc: 0.9533\n",
            "Model saved to /content/drive/MyDrive/mmml/project/model_mnist_dense/best_model.pt\n",
            "Epoch 2/10: Train Loss: 0.1641, Train Acc: 0.9513, Val Loss: 0.1138, Val Acc: 0.9652\n",
            "Model saved to /content/drive/MyDrive/mmml/project/model_mnist_dense/best_model.pt\n",
            "Epoch 3/10: Train Loss: 0.1302, Train Acc: 0.9607, Val Loss: 0.0958, Val Acc: 0.9712\n",
            "Model saved to /content/drive/MyDrive/mmml/project/model_mnist_dense/best_model.pt\n",
            "Epoch 4/10: Train Loss: 0.1092, Train Acc: 0.9668, Val Loss: 0.0962, Val Acc: 0.9706\n",
            "Epoch 5/10: Train Loss: 0.1002, Train Acc: 0.9697, Val Loss: 0.0974, Val Acc: 0.9717\n",
            "Epoch 6/10: Train Loss: 0.0876, Train Acc: 0.9725, Val Loss: 0.0806, Val Acc: 0.9767\n",
            "Model saved to /content/drive/MyDrive/mmml/project/model_mnist_dense/best_model.pt\n",
            "Epoch 7/10: Train Loss: 0.0841, Train Acc: 0.9734, Val Loss: 0.0869, Val Acc: 0.9764\n",
            "Epoch 8/10: Train Loss: 0.0763, Train Acc: 0.9766, Val Loss: 0.0778, Val Acc: 0.9781\n",
            "Model saved to /content/drive/MyDrive/mmml/project/model_mnist_dense/best_model.pt\n",
            "Epoch 9/10: Train Loss: 0.0725, Train Acc: 0.9769, Val Loss: 0.0827, Val Acc: 0.9768\n",
            "Epoch 10/10: Train Loss: 0.0682, Train Acc: 0.9779, Val Loss: 0.0826, Val Acc: 0.9787\n",
            "Model saved to /content/drive/MyDrive/mmml/project/model_mnist_dense/final_model.pt\n"
          ]
        }
      ]
    },
    {
      "cell_type": "code",
      "source": [
        "trainer.plot_history(history)"
      ],
      "metadata": {
        "colab": {
          "base_uri": "https://localhost:8080/",
          "height": 524
        },
        "id": "berTt8wzGmO_",
        "outputId": "ece1f6d6-7d08-41b0-a982-31ddb5f83f43"
      },
      "execution_count": null,
      "outputs": [
        {
          "output_type": "stream",
          "name": "stdout",
          "text": [
            "Training history plot saved to /content/drive/MyDrive/mmml/project/model_mnist_dense/training_history.png\n"
          ]
        },
        {
          "output_type": "display_data",
          "data": {
            "text/plain": [
              "<Figure size 1500x500 with 2 Axes>"
            ],
            "image/png": "[encoded data removed]"
          },
          "metadata": {}
        }
      ]
    },
    {
      "cell_type": "markdown",
      "source": [
        "# Load model"
      ],
      "metadata": {
        "id": "z5g_57OxtT-J"
      }
    },
    {
      "cell_type": "code",
      "source": [
        "did_load_best = trainer.load_model(\"best_model.pt\")"
      ],
      "metadata": {
        "colab": {
          "base_uri": "https://localhost:8080/"
        },
        "id": "Vp4hFW3wGoMu",
        "outputId": "5dd81bd8-d5a2-4281-a394-e91f4179fa9c"
      },
      "execution_count": null,
      "outputs": [
        {
          "output_type": "stream",
          "name": "stdout",
          "text": [
            "Model loaded from /content/drive/MyDrive/mmml/project/model_mnist_dense/best_model.pt\n"
          ]
        }
      ]
    },
    {
      "cell_type": "code",
      "source": [
        "evaluate_model(model, test_loader, criterion, device, num_classes)"
      ],
      "metadata": {
        "colab": {
          "base_uri": "https://localhost:8080/"
        },
        "id": "c24yDY7oGpzK",
        "outputId": "5c02b528-9002-4715-e604-cbcd8fc246b9"
      },
      "execution_count": null,
      "outputs": [
        {
          "output_type": "stream",
          "name": "stdout",
          "text": [
            "\n",
            "--- Test Set Evaluation ---\n",
            "Test Loss: 0.0708, Test Accuracy: 0.9787 (9787/10000)\n",
            "\n",
            "Class-specific Accuracy:\n",
            "  Class 0: 98.88% (969/980)\n",
            "  Class 1: 99.30% (1127/1135)\n",
            "  Class 2: 98.06% (1012/1032)\n",
            "  Class 3: 97.92% (989/1010)\n",
            "  Class 4: 98.37% (966/982)\n",
            "  Class 5: 97.53% (870/892)\n",
            "  Class 6: 98.23% (941/958)\n",
            "  Class 7: 97.08% (998/1028)\n",
            "  Class 8: 97.74% (952/974)\n",
            "  Class 9: 95.44% (963/1009)\n"
          ]
        },
        {
          "output_type": "execute_result",
          "data": {
            "text/plain": [
              "(0.07080007054808084, 0.9787)"
            ]
          },
          "metadata": {},
          "execution_count": 17
        }
      ]
    },
    {
      "cell_type": "code",
      "source": [
        "visualize_predictions(model, test_loader, device, num_samples=10, save_dir=run_save_dir)"
      ],
      "metadata": {
        "colab": {
          "base_uri": "https://localhost:8080/",
          "height": 229
        },
        "id": "mZ3XIZEzGre_",
        "outputId": "6ec3fcf1-e921-4a33-866b-4b545d7c9791"
      },
      "execution_count": null,
      "outputs": [
        {
          "output_type": "stream",
          "name": "stdout",
          "text": [
            "Predictions visualization saved to /content/drive/MyDrive/mmml/project/model_mnist_dense/predictions.png\n"
          ]
        },
        {
          "output_type": "display_data",
          "data": {
            "text/plain": [
              "<Figure size 1500x400 with 10 Axes>"
            ],
            "image/png": "[encoded data removed]"
          },
          "metadata": {}
        }
      ]
    },
    {
      "cell_type": "markdown",
      "source": [
        "# SVD"
      ],
      "metadata": {
        "id": "uXLG6_2GI05O"
      }
    },
    {
      "cell_type": "markdown",
      "source": [
        "## Model"
      ],
      "metadata": {
        "id": "WRaHYNNl5lfP"
      }
    },
    {
      "cell_type": "code",
      "source": [
        "class SVDLinear(nn.Module):\n",
        "    def __init__(self, u: torch.Tensor, s_vec: torch.Tensor, v_t: torch.Tensor, bias: torch.Tensor | None):\n",
        "        super().__init__()\n",
        "        self.out_features, self.rank = u.shape\n",
        "        self.in_features = v_t.shape[1]\n",
        "\n",
        "        self.u = nn.Parameter(u.clone().detach())\n",
        "        self.s_vec = nn.Parameter(s_vec.clone().detach())\n",
        "        self.v_t = nn.Parameter(v_t.clone().detach())\n",
        "\n",
        "        if bias is not None:\n",
        "            self.bias = nn.Parameter(bias.clone().detach())\n",
        "        else:\n",
        "            self.register_parameter('bias', None)\n",
        "\n",
        "    def forward(self, x: torch.Tensor) -> torch.Tensor:\n",
        "        # Linear does x @ W^T + b, so we need also to do x @ (USV^T)^T or U^TS^TV\n",
        "        x_v = torch.matmul(x, self.v_t.t())\n",
        "        x_v_s = x_v * self.s_vec\n",
        "        y = torch.matmul(x_v_s, self.u.t())\n",
        "        if self.bias is not None:\n",
        "            y = y + self.bias\n",
        "        return y\n",
        "\n",
        "    def __repr__(self):\n",
        "        return f\"SVDLinear(in_features={self.in_features}, out_features={self.out_features}, rank={self.rank}, bias={self.bias is not None})\"\n",
        "\n",
        "class SVDModel(nn.Module):\n",
        "    def __init__(self, dense_model: DenseNetwork, information_preserved: float = 0.99, print_more: bool = False):\n",
        "        super().__init__()\n",
        "        svd_layers = []\n",
        "        device = next(dense_model.parameters()).device\n",
        "\n",
        "        if information_preserved < 0 or information_preserved > 1:\n",
        "            raise ValueError(\"information_preserved must be in (0; 1]\")\n",
        "\n",
        "        dense_model.eval() # freeze all params of original\n",
        "\n",
        "        with torch.no_grad():\n",
        "            for i, layer in enumerate(dense_model.sequential):\n",
        "                if not isinstance(layer, nn.Linear):\n",
        "                    svd_layers.append(layer)\n",
        "                    continue\n",
        "                weight = layer.weight.data\n",
        "                bias = layer.bias.data if layer.bias is not None else None\n",
        "\n",
        "                # full_matrices=False => will already remove all 0 eigvals\n",
        "                u, s_vec, v_t = torch.linalg.svd(weight, full_matrices=False)\n",
        "\n",
        "                k_full = s_vec.shape[0]\n",
        "                rank = k_full\n",
        "                s_squared = s_vec**2\n",
        "                threshold_variance = torch.sum(s_squared) * information_preserved\n",
        "                if threshold_variance == 0: # if weight is zero\n",
        "                    rank = 1\n",
        "                else:\n",
        "                    cumulative_variance = torch.cumsum(s_squared, dim=0)\n",
        "                    rank_candidates = torch.where(cumulative_variance >= threshold_variance)[0]\n",
        "                    rank = rank_candidates[0].item() + 1\n",
        "                if print_more:\n",
        "                    if rank < k_full:\n",
        "                        print(f\"Truncating rank from {k_full} to {rank}\")\n",
        "                    else:\n",
        "                        print(f\"Keeping full rank {k_full}\")\n",
        "\n",
        "                u_k = u[:, :rank]\n",
        "                s_k_vec = s_vec[:rank]\n",
        "                v_t_k = v_t[:rank, :]\n",
        "\n",
        "                svd_linear_layer = SVDLinear(u_k, s_k_vec, v_t_k, bias)\n",
        "                svd_layers.append(svd_linear_layer)\n",
        "        self.sequential = nn.Sequential(*svd_layers)\n",
        "\n",
        "    def forward(self, x):\n",
        "        return self.sequential(x)"
      ],
      "metadata": {
        "id": "hoeMgDH6Ryit"
      },
      "execution_count": null,
      "outputs": []
    },
    {
      "cell_type": "markdown",
      "source": [
        "## Eval 0.99"
      ],
      "metadata": {
        "id": "J6jRDPT4uZlr"
      }
    },
    {
      "cell_type": "code",
      "source": [
        "svd_model = SVDModel(model, print_more=True)"
      ],
      "metadata": {
        "colab": {
          "base_uri": "https://localhost:8080/"
        },
        "id": "IBRyoJ7uKSKz",
        "outputId": "6057b771-f1d8-4f38-af04-7f1e151a51e9"
      },
      "execution_count": null,
      "outputs": [
        {
          "output_type": "stream",
          "name": "stdout",
          "text": [
            "Truncating rank from 256 to 211\n",
            "Truncating rank from 128 to 109\n",
            "Keeping full rank 10\n"
          ]
        }
      ]
    },
    {
      "cell_type": "code",
      "source": [
        "evaluate_model(svd_model, test_loader, criterion, device, num_classes)"
      ],
      "metadata": {
        "colab": {
          "base_uri": "https://localhost:8080/"
        },
        "id": "4GMi2NGeWsRy",
        "outputId": "341533db-a5d3-4972-c4b2-30641394adc4"
      },
      "execution_count": null,
      "outputs": [
        {
          "output_type": "stream",
          "name": "stdout",
          "text": [
            "\n",
            "--- Test Set Evaluation ---\n",
            "Test Loss: 0.0709, Test Accuracy: 0.9790 (9790/10000)\n",
            "\n",
            "Class-specific Accuracy:\n",
            "  Class 0: 98.88% (969/980)\n",
            "  Class 1: 99.30% (1127/1135)\n",
            "  Class 2: 97.97% (1011/1032)\n",
            "  Class 3: 98.02% (990/1010)\n",
            "  Class 4: 98.57% (968/982)\n",
            "  Class 5: 97.53% (870/892)\n",
            "  Class 6: 98.23% (941/958)\n",
            "  Class 7: 97.18% (999/1028)\n",
            "  Class 8: 97.64% (951/974)\n",
            "  Class 9: 95.54% (964/1009)\n"
          ]
        },
        {
          "output_type": "execute_result",
          "data": {
            "text/plain": [
              "(0.07092463949871017, 0.979)"
            ]
          },
          "metadata": {},
          "execution_count": 21
        }
      ]
    },
    {
      "cell_type": "code",
      "source": [
        "visualize_predictions(svd_model, test_loader, device, num_samples=10, save_dir=run_save_dir)"
      ],
      "metadata": {
        "colab": {
          "base_uri": "https://localhost:8080/",
          "height": 229
        },
        "id": "3_LQ6ts4Wq3-",
        "outputId": "867be84c-0a5b-4c3c-a77d-8299791d108c"
      },
      "execution_count": null,
      "outputs": [
        {
          "output_type": "stream",
          "name": "stdout",
          "text": [
            "Predictions visualization saved to /content/drive/MyDrive/mmml/project/model_mnist_dense/predictions.png\n"
          ]
        },
        {
          "output_type": "display_data",
          "data": {
            "text/plain": [
              "<Figure size 1500x400 with 10 Axes>"
            ],
            "image/png": "[encoded data removed]"
          },
          "metadata": {}
        }
      ]
    },
    {
      "cell_type": "markdown",
      "source": [
        "## Compromise"
      ],
      "metadata": {
        "id": "9kpkQFccudMj"
      }
    },
    {
      "cell_type": "code",
      "source": [
        "compare_models(model, test_loader, criterion, device, num_classes, lambda coef: SVDModel(model, coef), [0.99, 0.95, 0.91, 0.87, 0.83, 0.79, 0.75, 0.71, 0.67], \"Info preserved\")"
      ],
      "metadata": {
        "colab": {
          "base_uri": "https://localhost:8080/"
        },
        "id": "BRWR99zFuftP",
        "outputId": "95f7e6fd-e512-4051-818e-231999bcf977"
      },
      "execution_count": null,
      "outputs": [
        {
          "output_type": "stream",
          "name": "stdout",
          "text": [
            "| Info preserved | Size (MiB) | Size (% of orig) | Loss  | Accuracy |\n",
            "| Original model | 0.897      | 100%             | 0.071 | 0.979    |\n",
            "| 99.000000%     | 1.005      | 112.016%         | 0.071 | 0.979    |\n",
            "| 95.000000%     | 0.649      | 72.350%          | 0.079 | 0.976    |\n",
            "| 91.000000%     | 0.467      | 52.078%          | 0.087 | 0.974    |\n",
            "| 87.000000%     | 0.354      | 39.489%          | 0.086 | 0.974    |\n",
            "| 83.000000%     | 0.275      | 30.709%          | 0.098 | 0.970    |\n",
            "| 79.000000%     | 0.222      | 24.693%          | 0.101 | 0.969    |\n",
            "| 75.000000%     | 0.179      | 19.946%          | 0.212 | 0.929    |\n",
            "| 71.000000%     | 0.152      | 16.914%          | 0.235 | 0.920    |\n",
            "| 67.000000%     | 0.125      | 13.987%          | 0.337 | 0.889    |\n"
          ]
        }
      ]
    },
    {
      "cell_type": "markdown",
      "source": [
        "For mnist, it seems, 87% info preserved is quite optimal, if we do not want to lose any accuracy. It only loses 0.5% points in accuracy (97.4%), while having 64.2% of the original size.\n",
        "\n",
        "If we are willing to compromise a bit, we can choose even 79% info preserved. The model size is 24.7%, and the accuracy is 1% point less (96.9%) When compressing the model even more, the performance starts decreasing drastically, as each new principal axis holds more significant value."
      ],
      "metadata": {
        "id": "NjtxVTcj0vyX"
      }
    },
    {
      "cell_type": "markdown",
      "source": [
        "# Parameter pruning"
      ],
      "metadata": {
        "id": "4DhRXFS81CH8"
      }
    },
    {
      "cell_type": "markdown",
      "source": [
        "## Pruned Layer"
      ],
      "metadata": {
        "id": "64PyXr8-a2TY"
      }
    },
    {
      "cell_type": "code",
      "source": [
        "class PrunedLayer(nn.Module):\n",
        "    def __init__(self, weight: torch.Tensor, bias: torch.Tensor | None, preserved_ids: torch.Tensor, output_dim: int):\n",
        "        super().__init__()\n",
        "        self.weight = nn.Parameter(weight.clone().detach())\n",
        "        self.bias = nn.Parameter(bias.clone().detach()) if bias is not None else None\n",
        "        self.preserved_ids = preserved_ids\n",
        "        self.output_dim = output_dim\n",
        "\n",
        "    def forward(self, x: torch.Tensor) -> torch.Tensor:\n",
        "        y = torch.matmul(x, self.weight.t())\n",
        "        if self.bias is not None:\n",
        "            y = y + self.bias\n",
        "        zero_full_vector = torch.zeros(x.shape[0], self.output_dim, device=x.device)\n",
        "        zero_full_vector[:, self.preserved_ids] = y\n",
        "        return zero_full_vector"
      ],
      "metadata": {
        "id": "qM6TSdy2Yi9W"
      },
      "execution_count": null,
      "outputs": []
    },
    {
      "cell_type": "markdown",
      "source": [
        "## Post training"
      ],
      "metadata": {
        "id": "JpMQFlr0YpfX"
      }
    },
    {
      "cell_type": "markdown",
      "source": [
        "### Model"
      ],
      "metadata": {
        "id": "noNUnKI6YujI"
      }
    },
    {
      "cell_type": "code",
      "source": [
        "class PrunedPostTrainingModel(nn.Module):\n",
        "    def __init__(self, dense_model: DenseNetwork, information_preserved: float = 0.99):\n",
        "        super().__init__()\n",
        "        pruned_layers = []\n",
        "        device = next(dense_model.parameters()).device\n",
        "\n",
        "        dense_model.eval() # freeze all params of original\n",
        "\n",
        "        with torch.no_grad():\n",
        "            last_linear_layer = None\n",
        "            for i, layer in enumerate(dense_model.sequential):\n",
        "                if isinstance(layer, nn.Linear):\n",
        "                    last_linear_layer = i\n",
        "            for i, layer in enumerate(dense_model.sequential):\n",
        "                if not isinstance(layer, nn.Linear):\n",
        "                    pruned_layers.append(layer)\n",
        "                    continue\n",
        "                weight = layer.weight.data\n",
        "                bias = layer.bias.data if layer.bias is not None else None\n",
        "\n",
        "                output_dim = weight.shape[0]\n",
        "                preserve_k = int(output_dim * information_preserved) if i != last_linear_layer else output_dim\n",
        "\n",
        "                row_sum_squared = torch.sum(torch.square(weight), dim=1)\n",
        "                sorted_rows = torch.argsort(row_sum_squared, descending=True)\n",
        "                preserved_ids = sorted_rows[:preserve_k]\n",
        "\n",
        "                pruned_weight = weight[preserved_ids, :]\n",
        "                pruned_bias = bias[preserved_ids] if bias is not None else None\n",
        "                pruned_layer = PrunedLayer(pruned_weight, pruned_bias, preserved_ids, output_dim)\n",
        "                pruned_layers.append(pruned_layer)\n",
        "        self.sequential = nn.Sequential(*pruned_layers)\n",
        "\n",
        "    def forward(self, x):\n",
        "        return self.sequential(x)"
      ],
      "metadata": {
        "id": "44bDeXqFYtVB"
      },
      "execution_count": null,
      "outputs": []
    },
    {
      "cell_type": "markdown",
      "source": [
        "### Eval 0.99"
      ],
      "metadata": {
        "id": "Ww6HzbGtYxAz"
      }
    },
    {
      "cell_type": "code",
      "source": [
        "pruned_model = PrunedPostTrainingModel(model, information_preserved=0.99)"
      ],
      "metadata": {
        "id": "-TyCUvqDYyQM"
      },
      "execution_count": null,
      "outputs": []
    },
    {
      "cell_type": "code",
      "source": [
        "evaluate_model(pruned_model, test_loader, criterion, device, num_classes)"
      ],
      "metadata": {
        "colab": {
          "base_uri": "https://localhost:8080/"
        },
        "id": "sZRLCuFuYzYx",
        "outputId": "24ba9a67-93c3-442f-dcb6-0be6112e8ba4"
      },
      "execution_count": null,
      "outputs": [
        {
          "output_type": "stream",
          "name": "stdout",
          "text": [
            "\n",
            "--- Test Set Evaluation ---\n",
            "Test Loss: 0.0709, Test Accuracy: 0.9787 (9787/10000)\n",
            "\n",
            "Class-specific Accuracy:\n",
            "  Class 0: 98.88% (969/980)\n",
            "  Class 1: 99.30% (1127/1135)\n",
            "  Class 2: 98.06% (1012/1032)\n",
            "  Class 3: 97.92% (989/1010)\n",
            "  Class 4: 98.37% (966/982)\n",
            "  Class 5: 97.53% (870/892)\n",
            "  Class 6: 98.23% (941/958)\n",
            "  Class 7: 96.98% (997/1028)\n",
            "  Class 8: 97.74% (952/974)\n",
            "  Class 9: 95.54% (964/1009)\n"
          ]
        },
        {
          "output_type": "execute_result",
          "data": {
            "text/plain": [
              "(0.07089371852596524, 0.9787)"
            ]
          },
          "metadata": {},
          "execution_count": 27
        }
      ]
    },
    {
      "cell_type": "markdown",
      "source": [
        "### Compromise"
      ],
      "metadata": {
        "id": "j52ZTJanY0tg"
      }
    },
    {
      "cell_type": "code",
      "source": [
        "compare_models(model, test_loader, criterion, device, num_classes, lambda coef: PrunedPostTrainingModel(model, coef), [0.99, 0.93, 0.87, 0.81, 0.75, 0.69, 0.63, 0.57, 0.51, 0.45], \"Neurons preserved\")"
      ],
      "metadata": {
        "colab": {
          "base_uri": "https://localhost:8080/"
        },
        "id": "eMukCxWuY3Hi",
        "outputId": "cb69c926-fb37-428f-8b21-d592df8a65b0"
      },
      "execution_count": null,
      "outputs": [
        {
          "output_type": "stream",
          "name": "stdout",
          "text": [
            "| Neurons preserved | Size (MiB) | Size (% of orig) | Loss  | Accuracy |\n",
            "| Original model    | 0.897      | 100%             | 0.071 | 0.979    |\n",
            "| 99.000000%        | 0.886      | 98.780%          | 0.071 | 0.979    |\n",
            "| 93.000000%        | 0.834      | 93.007%          | 0.070 | 0.979    |\n",
            "| 87.000000%        | 0.779      | 86.792%          | 0.074 | 0.978    |\n",
            "| 81.000000%        | 0.726      | 80.910%          | 0.081 | 0.977    |\n",
            "| 75.000000%        | 0.674      | 75.137%          | 0.091 | 0.973    |\n",
            "| 69.000000%        | 0.618      | 68.921%          | 0.127 | 0.969    |\n",
            "| 63.000000%        | 0.565      | 63.040%          | 0.170 | 0.963    |\n",
            "| 57.000000%        | 0.510      | 56.824%          | 0.253 | 0.954    |\n",
            "| 51.000000%        | 0.458      | 51.051%          | 0.444 | 0.884    |\n",
            "| 45.000000%        | 0.405      | 45.169%          | 0.562 | 0.869    |\n"
          ]
        }
      ]
    },
    {
      "cell_type": "markdown",
      "source": [
        "For mnist, it seems, approximately 75% neurons preserved is quite optimal, if we do not want to lose any accuracy. It only loses 0.6% points in accuracy (97%), while having 75.1% of the original size.\n",
        "\n",
        "If we are willing to compromise a bit, we can choose even 69% neurons preserved (*nice*). The model size is 68.9%, and the accuracy is 1% point less (96.9%).\n"
      ],
      "metadata": {
        "id": "O8f3waBwY7EL"
      }
    },
    {
      "cell_type": "markdown",
      "source": [
        "## During training"
      ],
      "metadata": {
        "id": "CbLowWh3Y9dA"
      }
    },
    {
      "cell_type": "markdown",
      "source": [
        "### Model"
      ],
      "metadata": {
        "id": "PvNU6ducY95b"
      }
    },
    {
      "cell_type": "code",
      "source": [
        "class PrunedDuringTrainingModel(nn.Module):\n",
        "    def __init__(self, dense_model: DenseNetwork, copy_model: bool = True):\n",
        "        super().__init__()\n",
        "\n",
        "        device = next(dense_model.parameters()).device\n",
        "        if copy_model:\n",
        "            self.model = copy.deepcopy(dense_model)\n",
        "        else:\n",
        "            self.model = dense_model\n",
        "        self.total_grads = {}\n",
        "\n",
        "        layers = []\n",
        "\n",
        "        self.model.eval() # freeze all params of original\n",
        "\n",
        "        with torch.no_grad():\n",
        "            for i, layer in enumerate(self.model.sequential):\n",
        "                layers.append(layer)\n",
        "                if isinstance(layer, nn.Linear) and layer.weight.requires_grad:\n",
        "                    self.total_grads[i] = torch.zeros_like(layer.weight)\n",
        "\n",
        "        self.sequential = nn.Sequential(*layers)\n",
        "\n",
        "    def forward(self, x):\n",
        "        return self.sequential(x)\n",
        "\n",
        "    def accumulate_gradients(self):\n",
        "        for i, layer in enumerate(self.sequential):\n",
        "            if isinstance(layer, nn.Linear) and layer.weight.requires_grad and layer.weight.grad is not None:\n",
        "                self.total_grads[i] += layer.weight.grad.clone()\n",
        "\n",
        "    def reset_grads(self):\n",
        "        for i in self.total_grads:\n",
        "            self.total_grads[i].zero_()\n",
        "\n",
        "    def get_pruned(self, information_preserved: float = 0.99) -> DenseNetwork:\n",
        "        new_layers = []\n",
        "        with torch.no_grad():\n",
        "            last_linear_layer = None\n",
        "            for i, layer in enumerate(self.sequential):\n",
        "                if isinstance(layer, nn.Linear):\n",
        "                    last_linear_layer = i\n",
        "            for i, layer in enumerate(self.sequential):\n",
        "                if not isinstance(layer, nn.Linear):\n",
        "                    new_layers.append(layer)\n",
        "                    continue\n",
        "                weight = layer.weight.data\n",
        "                bias = layer.bias.data if layer.bias is not None else None\n",
        "\n",
        "                output_dim = weight.shape[0]\n",
        "                preserve_k = int(output_dim * information_preserved) if i != last_linear_layer else output_dim\n",
        "\n",
        "                row_sum_squared = torch.sum(torch.square(self.total_grads[i]), dim=1)\n",
        "                sorted_rows = torch.argsort(row_sum_squared, descending=True)\n",
        "                preserved_ids = sorted_rows[:preserve_k]\n",
        "\n",
        "                pruned_weight = weight[preserved_ids, :]\n",
        "                pruned_bias = bias[preserved_ids] if bias is not None else None\n",
        "                pruned_layer = PrunedLayer(pruned_weight, pruned_bias, preserved_ids, output_dim)\n",
        "                new_layers.append(pruned_layer)\n",
        "        new_model = copy.deepcopy(self.model)\n",
        "        new_model.sequential = nn.Sequential(*new_layers)\n",
        "        return new_model"
      ],
      "metadata": {
        "id": "lsGEuHPyY-84"
      },
      "execution_count": null,
      "outputs": []
    },
    {
      "cell_type": "markdown",
      "source": [
        "### Eval 0.99"
      ],
      "metadata": {
        "id": "ZyQPgdjwZByl"
      }
    },
    {
      "cell_type": "code",
      "source": [
        "model_to_be_pruned = DenseNetwork(\n",
        "    input_dim=input_dim,\n",
        "    hidden_dims=HIDDEN_DIMS,\n",
        "    output_dim=output_dim,\n",
        "    dropout_rate=DROPOUT_RATE\n",
        ").to(device)\n",
        "pruner_model = PrunedDuringTrainingModel(model_to_be_pruned)"
      ],
      "metadata": {
        "id": "Sux7JiSPZDhz"
      },
      "execution_count": null,
      "outputs": []
    },
    {
      "cell_type": "code",
      "source": [
        "pruner_criterion = nn.CrossEntropyLoss()\n",
        "pruner_optimizer = optim.Adam(pruner_model.parameters(), lr=LEARNING_RATE)\n",
        "pruner_trainer = ModelTrainer(\n",
        "    model=pruner_model,\n",
        "    train_loader=train_loader,\n",
        "    val_loader=val_loader,\n",
        "    criterion=pruner_criterion,\n",
        "    optimizer=pruner_optimizer,\n",
        "    device=device,\n",
        "    save_dir=None\n",
        ")\n",
        "history = pruner_trainer.train(epochs=EPOCHS, early_stopping_patience=EARLY_STOPPING_PATIENCE, accumulate_gradients=True)"
      ],
      "metadata": {
        "colab": {
          "base_uri": "https://localhost:8080/"
        },
        "id": "jlTmBaTfZEnr",
        "outputId": "7489f667-b724-44c0-dde3-7d639b770e53"
      },
      "execution_count": null,
      "outputs": [
        {
          "output_type": "stream",
          "name": "stdout",
          "text": [
            "Model will not be saved to disk\n",
            "Epoch 1/10: Train Loss: 0.3354, Train Acc: 0.8969, Val Loss: 0.1361, Val Acc: 0.9594\n",
            "Epoch 2/10: Train Loss: 0.1616, Train Acc: 0.9519, Val Loss: 0.1171, Val Acc: 0.9644\n",
            "Epoch 3/10: Train Loss: 0.1297, Train Acc: 0.9609, Val Loss: 0.0953, Val Acc: 0.9709\n",
            "Epoch 4/10: Train Loss: 0.1114, Train Acc: 0.9666, Val Loss: 0.0913, Val Acc: 0.9728\n",
            "Epoch 5/10: Train Loss: 0.0931, Train Acc: 0.9711, Val Loss: 0.0920, Val Acc: 0.9726\n",
            "Epoch 6/10: Train Loss: 0.0886, Train Acc: 0.9723, Val Loss: 0.0890, Val Acc: 0.9752\n",
            "Epoch 7/10: Train Loss: 0.0797, Train Acc: 0.9755, Val Loss: 0.0842, Val Acc: 0.9765\n",
            "Epoch 8/10: Train Loss: 0.0766, Train Acc: 0.9760, Val Loss: 0.0780, Val Acc: 0.9783\n",
            "Epoch 9/10: Train Loss: 0.0717, Train Acc: 0.9771, Val Loss: 0.0848, Val Acc: 0.9758\n",
            "Epoch 10/10: Train Loss: 0.0675, Train Acc: 0.9776, Val Loss: 0.0701, Val Acc: 0.9807\n"
          ]
        }
      ]
    },
    {
      "cell_type": "code",
      "source": [
        "evaluate_model(pruner_model, test_loader, pruner_criterion, device, num_classes)"
      ],
      "metadata": {
        "colab": {
          "base_uri": "https://localhost:8080/"
        },
        "id": "ohrLiQ4jZGDD",
        "outputId": "7f9fbd53-f1b9-4c18-e2c5-9f06588ccfec"
      },
      "execution_count": null,
      "outputs": [
        {
          "output_type": "stream",
          "name": "stdout",
          "text": [
            "\n",
            "--- Test Set Evaluation ---\n",
            "Test Loss: 0.0670, Test Accuracy: 0.9799 (9799/10000)\n",
            "\n",
            "Class-specific Accuracy:\n",
            "  Class 0: 98.88% (969/980)\n",
            "  Class 1: 99.30% (1127/1135)\n",
            "  Class 2: 97.97% (1011/1032)\n",
            "  Class 3: 97.92% (989/1010)\n",
            "  Class 4: 97.86% (961/982)\n",
            "  Class 5: 97.42% (869/892)\n",
            "  Class 6: 98.23% (941/958)\n",
            "  Class 7: 96.89% (996/1028)\n",
            "  Class 8: 97.84% (953/974)\n",
            "  Class 9: 97.42% (983/1009)\n"
          ]
        },
        {
          "output_type": "execute_result",
          "data": {
            "text/plain": [
              "(0.06703723769329954, 0.9799)"
            ]
          },
          "metadata": {},
          "execution_count": 32
        }
      ]
    },
    {
      "cell_type": "code",
      "source": [
        "pruned_model = pruner_model.get_pruned()"
      ],
      "metadata": {
        "id": "m7ARWQguZHT8"
      },
      "execution_count": null,
      "outputs": []
    },
    {
      "cell_type": "code",
      "source": [
        "evaluate_model(pruned_model, test_loader, pruner_criterion, device, num_classes)"
      ],
      "metadata": {
        "colab": {
          "base_uri": "https://localhost:8080/"
        },
        "id": "-yVGoRIgZIZa",
        "outputId": "05845792-b51d-4639-fae9-d058c8b4eafb"
      },
      "execution_count": null,
      "outputs": [
        {
          "output_type": "stream",
          "name": "stdout",
          "text": [
            "\n",
            "--- Test Set Evaluation ---\n",
            "Test Loss: 0.0670, Test Accuracy: 0.9801 (9801/10000)\n",
            "\n",
            "Class-specific Accuracy:\n",
            "  Class 0: 98.78% (968/980)\n",
            "  Class 1: 99.30% (1127/1135)\n",
            "  Class 2: 98.26% (1014/1032)\n",
            "  Class 3: 97.92% (989/1010)\n",
            "  Class 4: 97.66% (959/982)\n",
            "  Class 5: 97.42% (869/892)\n",
            "  Class 6: 98.23% (941/958)\n",
            "  Class 7: 96.89% (996/1028)\n",
            "  Class 8: 98.05% (955/974)\n",
            "  Class 9: 97.42% (983/1009)\n"
          ]
        },
        {
          "output_type": "execute_result",
          "data": {
            "text/plain": [
              "(0.06695008369657444, 0.9801)"
            ]
          },
          "metadata": {},
          "execution_count": 34
        }
      ]
    },
    {
      "cell_type": "markdown",
      "source": [
        "### Compromise"
      ],
      "metadata": {
        "id": "RRHrDHdYZSuC"
      }
    },
    {
      "cell_type": "code",
      "source": [
        "compare_models(model, test_loader, pruner_criterion, device, num_classes, lambda coef: pruner_model.get_pruned(coef), [0.99, 0.93, 0.87, 0.81, 0.75, 0.69, 0.63, 0.57, 0.51, 0.41, 0.36, 0.25, 0.2, 0.15], \"Neurons preserved\")"
      ],
      "metadata": {
        "colab": {
          "base_uri": "https://localhost:8080/"
        },
        "id": "-XQmdkReZVHk",
        "outputId": "db3ba0fa-cda3-4d2a-a6f5-c1cf4422f517"
      },
      "execution_count": null,
      "outputs": [
        {
          "output_type": "stream",
          "name": "stdout",
          "text": [
            "| Neurons preserved | Size (MiB) | Size (% of orig) | Loss  | Accuracy |\n",
            "| Original model    | 0.897      | 100%             | 0.071 | 0.979    |\n",
            "| 99.000000%        | 0.886      | 98.780%          | 0.067 | 0.980    |\n",
            "| 93.000000%        | 0.834      | 93.007%          | 0.067 | 0.980    |\n",
            "| 87.000000%        | 0.779      | 86.792%          | 0.067 | 0.979    |\n",
            "| 81.000000%        | 0.726      | 80.910%          | 0.072 | 0.978    |\n",
            "| 75.000000%        | 0.674      | 75.137%          | 0.077 | 0.977    |\n",
            "| 69.000000%        | 0.618      | 68.921%          | 0.093 | 0.974    |\n",
            "| 63.000000%        | 0.565      | 63.040%          | 0.123 | 0.966    |\n",
            "| 57.000000%        | 0.510      | 56.824%          | 0.149 | 0.968    |\n",
            "| 51.000000%        | 0.458      | 51.051%          | 0.202 | 0.960    |\n",
            "| 41.000000%        | 0.367      | 40.951%          | 0.485 | 0.916    |\n",
            "| 36.000000%        | 0.326      | 36.289%          | 0.677 | 0.860    |\n",
            "| 25.000000%        | 0.228      | 25.411%          | 1.174 | 0.689    |\n",
            "| 20.000000%        | 0.182      | 20.307%          | 1.385 | 0.597    |\n",
            "| 15.000000%        | 0.137      | 15.311%          | 1.702 | 0.456    |\n"
          ]
        }
      ]
    },
    {
      "cell_type": "markdown",
      "source": [
        "On small compression pruning during training seems to behave pretty similarly to SVD (e.g. at 75% of size it has 97.7% accuracy, while SVD at 72.4% has 97.6% accuracy). However, with the increase of pruned neurons, the accuracy degrades significantly more (e.g. 68.9% vs 96.9% at 25% size)."
      ],
      "metadata": {
        "id": "Dc9ZwVZSiAq5"
      }
    },
    {
      "cell_type": "markdown",
      "source": [
        "# LORA"
      ],
      "metadata": {
        "id": "-4A7VtXdqQlQ"
      }
    },
    {
      "cell_type": "markdown",
      "source": [
        "## Model"
      ],
      "metadata": {
        "id": "HJcIrsY-BR7b"
      }
    },
    {
      "cell_type": "code",
      "source": [
        "class LoRALinear(nn.Module):\n",
        "  def __init__(self, input_dim, output_dim, rank=4, alpha=1.0, dropout=0.0, bias=True):\n",
        "    super().__init__()\n",
        "    self.input_dim = input_dim\n",
        "    self.output_dim = output_dim\n",
        "    self.rank = rank\n",
        "\n",
        "    self.LORA_A = nn.Parameter(torch.zeros((input_dim, rank)))\n",
        "    self.LORA_B = nn.Parameter(torch.zeros((rank, output_dim)))\n",
        "    nn.init.normal_(self.LORA_A, mean=0, std=1)\n",
        "    # nn.init.kaiming_uniform_(self.LORA_A, a=math.sqrt(5))\n",
        "    nn.init.zeros_(self.LORA_B)\n",
        "\n",
        "    self.bias = bias\n",
        "    self.scale = alpha / rank\n",
        "\n",
        "    self.linear = nn.Linear(input_dim, output_dim, bias=bias)\n",
        "\n",
        "    if dropout > 0:\n",
        "      self.dropout = nn.Dropout(dropout)\n",
        "    else:\n",
        "      self.dropout = nn.Identity()\n",
        "\n",
        "    self.enabled = True\n",
        "\n",
        "  def forward(self, x):\n",
        "    out = self.linear(x)\n",
        "    if self.enabled:\n",
        "      lora_out = (self.dropout(x) @ self.LORA_A) @ self.LORA_B\n",
        "      return out + lora_out * self.scale\n",
        "    return out\n",
        "\n",
        "  def __repr__(self):\n",
        "      return f\"LoRALinear(in_features={self.input_dim}, out_features={self.output_dim}, rank={self.rank}, bias={self.bias is not None})\""
      ],
      "metadata": {
        "id": "F3q0_Ji5CBlY"
      },
      "execution_count": 11,
      "outputs": []
    },
    {
      "cell_type": "code",
      "source": [
        "class LoRAModel(nn.Module):\n",
        "  def __init__(self, dense_model: DenseNetwork, rank=4, alpha=1.0, dropout=0.0):\n",
        "        super().__init__()\n",
        "        lora_layers = []\n",
        "        device = next(dense_model.parameters()).device\n",
        "        self.model = dense_model\n",
        "\n",
        "        dense_model.eval()\n",
        "\n",
        "        for param in self.model.parameters():\n",
        "            param.requires_grad = False\n",
        "\n",
        "        with torch.no_grad():\n",
        "            for layer in dense_model.sequential:\n",
        "                if not isinstance(layer, nn.Linear):\n",
        "                    lora_layers.append(layer)\n",
        "                    continue\n",
        "\n",
        "                weight = layer.weight.data\n",
        "                bias = layer.bias.data if layer.bias is not None else None\n",
        "\n",
        "\n",
        "                lora_layer = LoRALinear(layer.in_features, layer.out_features,\n",
        "                                        rank = rank, alpha = alpha,\n",
        "                                        dropout = dropout, bias=(layer.bias is not None))\n",
        "\n",
        "                lora_layer.linear.weight.data.copy_(layer.weight.data)\n",
        "                if layer.bias is not None:\n",
        "                    lora_layer.linear.bias.data.copy_(layer.bias.data)\n",
        "\n",
        "                lora_layer.linear.weight.requires_grad = False\n",
        "                if layer.bias is not None:\n",
        "                    lora_layer.linear.bias.requires_grad = False\n",
        "                lora_layers.append(lora_layer.to(device))\n",
        "\n",
        "            self.sequential = nn.Sequential(*lora_layers)\n",
        "\n",
        "  def forward(self, x):\n",
        "        return self.sequential(x)"
      ],
      "metadata": {
        "id": "HSiJL69oI0Il"
      },
      "execution_count": 12,
      "outputs": []
    },
    {
      "cell_type": "markdown",
      "source": [
        "## Split dataset"
      ],
      "metadata": {
        "id": "54ovFin-BdCZ"
      }
    },
    {
      "cell_type": "code",
      "source": [
        "classes_to_keep = list(range(2, 10))\n",
        "\n",
        "train_dataset_filtered = get_class_subset(train_dataset, classes_to_keep)\n",
        "val_dataset_filtered = get_class_subset(val_dataset, classes_to_keep)\n",
        "\n",
        "train_loader_filtered = DataLoader(train_dataset_filtered, batch_size=BATCH_SIZE, shuffle=True,\n",
        "                         num_workers=2, pin_memory=True if device==\"cuda\" else False)\n",
        "val_loader_filtered = DataLoader(val_dataset_filtered, batch_size=BATCH_SIZE, shuffle=False,\n",
        "                       num_workers=2, pin_memory=True if device==\"cuda\" else False)\n"
      ],
      "metadata": {
        "id": "0WHL9vDPCVnk"
      },
      "execution_count": 13,
      "outputs": []
    },
    {
      "cell_type": "markdown",
      "source": [
        "## Pre-train"
      ],
      "metadata": {
        "id": "EzQtz6M4BUYP"
      }
    },
    {
      "cell_type": "code",
      "source": [
        "model_to_lora = DenseNetwork(\n",
        "    input_dim=input_dim,\n",
        "    hidden_dims=[1024, 512],\n",
        "    output_dim=output_dim,\n",
        "    dropout_rate=DROPOUT_RATE\n",
        ").to(device)"
      ],
      "metadata": {
        "id": "8xOmskjNBPs3"
      },
      "execution_count": 39,
      "outputs": []
    },
    {
      "cell_type": "code",
      "source": [
        "lora_criterion = nn.CrossEntropyLoss()\n",
        "lora_optimizer = optim.Adam(model_to_lora.parameters(), lr=LEARNING_RATE)\n",
        "lora_trainer = ModelTrainer(\n",
        "    model=model_to_lora,\n",
        "    train_loader=train_loader_filtered,\n",
        "    val_loader=val_loader_filtered,\n",
        "    criterion=lora_criterion,\n",
        "    optimizer=lora_optimizer,\n",
        "    device=device,\n",
        "    save_dir=None\n",
        ")\n",
        "history = lora_trainer.train(epochs=4, early_stopping_patience=EARLY_STOPPING_PATIENCE)"
      ],
      "metadata": {
        "colab": {
          "base_uri": "https://localhost:8080/"
        },
        "id": "8AcdNeDRBvVD",
        "outputId": "e4cefc3a-2335-4312-8ba9-308fcf2807f5"
      },
      "execution_count": 40,
      "outputs": [
        {
          "output_type": "stream",
          "name": "stdout",
          "text": [
            "Model will not be saved to disk\n",
            "Epoch 1/4: Train Loss: 0.2645, Train Acc: 0.9141, Val Loss: 0.1378, Val Acc: 0.9592\n",
            "Epoch 2/4: Train Loss: 0.1301, Train Acc: 0.9590, Val Loss: 0.1166, Val Acc: 0.9643\n",
            "Epoch 3/4: Train Loss: 0.1045, Train Acc: 0.9671, Val Loss: 0.1135, Val Acc: 0.9651\n",
            "Epoch 4/4: Train Loss: 0.0882, Train Acc: 0.9719, Val Loss: 0.0935, Val Acc: 0.9733\n"
          ]
        }
      ]
    },
    {
      "cell_type": "code",
      "source": [
        "evaluate_model(model_to_lora, test_loader, lora_criterion, device, num_classes)"
      ],
      "metadata": {
        "colab": {
          "base_uri": "https://localhost:8080/"
        },
        "id": "LP8HO8KcGA6L",
        "outputId": "b4bc7077-c683-4970-bf4b-fafb5c98e7f6"
      },
      "execution_count": 41,
      "outputs": [
        {
          "output_type": "stream",
          "name": "stdout",
          "text": [
            "\n",
            "--- Test Set Evaluation ---\n",
            "Test Loss: 2.6842, Test Accuracy: 0.7678 (7678/10000)\n",
            "\n",
            "Class-specific Accuracy:\n",
            "  Class 0: 0.00% (0/980)\n",
            "  Class 1: 0.00% (0/1135)\n",
            "  Class 2: 98.74% (1019/1032)\n",
            "  Class 3: 98.61% (996/1010)\n",
            "  Class 4: 97.25% (955/982)\n",
            "  Class 5: 96.64% (862/892)\n",
            "  Class 6: 97.70% (936/958)\n",
            "  Class 7: 96.79% (995/1028)\n",
            "  Class 8: 95.79% (933/974)\n",
            "  Class 9: 97.32% (982/1009)\n"
          ]
        },
        {
          "output_type": "execute_result",
          "data": {
            "text/plain": [
              "(2.6842142528533937, 0.7678)"
            ]
          },
          "metadata": {},
          "execution_count": 41
        }
      ]
    },
    {
      "cell_type": "markdown",
      "source": [
        "## Post-train"
      ],
      "metadata": {
        "id": "qvdl8IxnBX2Y"
      }
    },
    {
      "cell_type": "code",
      "source": [
        "copy_model = copy.deepcopy(model_to_lora)\n",
        "lora_model = LoRAModel(model_to_lora, rank=2, alpha=0.5, dropout=0)"
      ],
      "metadata": {
        "id": "vQZBGSMaBwsU"
      },
      "execution_count": 42,
      "outputs": []
    },
    {
      "cell_type": "code",
      "source": [
        "lora_criterion = nn.CrossEntropyLoss()\n",
        "lora_optimizer = optim.Adam(lora_model.parameters(), lr=LEARNING_RATE)\n",
        "lora_trainer = ModelTrainer(\n",
        "    model=lora_model,\n",
        "    train_loader=train_loader,\n",
        "    val_loader=val_loader,\n",
        "    criterion=lora_criterion,\n",
        "    optimizer=lora_optimizer,\n",
        "    device=device,\n",
        "    save_dir=None\n",
        ")"
      ],
      "metadata": {
        "colab": {
          "base_uri": "https://localhost:8080/"
        },
        "id": "1nBR7uieA6iQ",
        "outputId": "9e435210-0c9f-4e2d-d908-8210fda52616"
      },
      "execution_count": 43,
      "outputs": [
        {
          "output_type": "stream",
          "name": "stdout",
          "text": [
            "Model will not be saved to disk\n"
          ]
        }
      ]
    },
    {
      "cell_type": "code",
      "source": [
        "%time history = lora_trainer.train(epochs=4, early_stopping_patience=EARLY_STOPPING_PATIENCE)"
      ],
      "metadata": {
        "colab": {
          "base_uri": "https://localhost:8080/"
        },
        "id": "mojzVQaIjPwC",
        "outputId": "a024f24c-ce70-4dbd-97be-91a17af46c07"
      },
      "execution_count": 44,
      "outputs": [
        {
          "output_type": "stream",
          "name": "stdout",
          "text": [
            "Epoch 1/4: Train Loss: 0.3475, Train Acc: 0.9419, Val Loss: 0.0992, Val Acc: 0.9722\n",
            "Epoch 2/4: Train Loss: 0.0878, Train Acc: 0.9745, Val Loss: 0.0919, Val Acc: 0.9732\n",
            "Epoch 3/4: Train Loss: 0.0811, Train Acc: 0.9764, Val Loss: 0.0850, Val Acc: 0.9745\n",
            "Epoch 4/4: Train Loss: 0.0710, Train Acc: 0.9790, Val Loss: 0.0836, Val Acc: 0.9758\n",
            "CPU times: user 46.5 s, sys: 2.02 s, total: 48.6 s\n",
            "Wall time: 1min 23s\n"
          ]
        }
      ]
    },
    {
      "cell_type": "code",
      "source": [
        "evaluate_model(lora_model, test_loader, lora_criterion, device, num_classes)"
      ],
      "metadata": {
        "colab": {
          "base_uri": "https://localhost:8080/"
        },
        "id": "KEfu_0qsry5c",
        "outputId": "3cdb69f5-a88b-46ce-ee14-16f8c72f13e8"
      },
      "execution_count": 45,
      "outputs": [
        {
          "output_type": "stream",
          "name": "stdout",
          "text": [
            "\n",
            "--- Test Set Evaluation ---\n",
            "Test Loss: 0.0757, Test Accuracy: 0.9782 (9782/10000)\n",
            "\n",
            "Class-specific Accuracy:\n",
            "  Class 0: 98.16% (962/980)\n",
            "  Class 1: 99.21% (1126/1135)\n",
            "  Class 2: 97.48% (1006/1032)\n",
            "  Class 3: 98.51% (995/1010)\n",
            "  Class 4: 97.86% (961/982)\n",
            "  Class 5: 97.98% (874/892)\n",
            "  Class 6: 97.29% (932/958)\n",
            "  Class 7: 97.18% (999/1028)\n",
            "  Class 8: 96.82% (943/974)\n",
            "  Class 9: 97.52% (984/1009)\n"
          ]
        },
        {
          "output_type": "execute_result",
          "data": {
            "text/plain": [
              "(0.07572025874904358, 0.9782)"
            ]
          },
          "metadata": {},
          "execution_count": 45
        }
      ]
    },
    {
      "cell_type": "markdown",
      "source": [
        "LoRA great it trains and gets smorter\n",
        "\n",
        "It learns classes it did not see previously"
      ],
      "metadata": {
        "id": "u30D2jRaIihy"
      }
    },
    {
      "cell_type": "code",
      "source": [
        "copy_optimizer = optim.Adam(copy_model.parameters(), lr=LEARNING_RATE)\n",
        "copy_trainer = ModelTrainer(\n",
        "    model=copy_model,\n",
        "    train_loader=train_loader,\n",
        "    val_loader=val_loader,\n",
        "    criterion=lora_criterion,\n",
        "    optimizer=copy_optimizer,\n",
        "    device=device,\n",
        "    save_dir=None\n",
        ")"
      ],
      "metadata": {
        "colab": {
          "base_uri": "https://localhost:8080/"
        },
        "id": "z1U8JUzUjWtK",
        "outputId": "3fd27bdd-4db2-4fbc-b373-149c0b5b9ac7"
      },
      "execution_count": 46,
      "outputs": [
        {
          "output_type": "stream",
          "name": "stdout",
          "text": [
            "Model will not be saved to disk\n"
          ]
        }
      ]
    },
    {
      "cell_type": "code",
      "source": [
        "%time history = copy_trainer.train(epochs=4, early_stopping_patience=EARLY_STOPPING_PATIENCE)"
      ],
      "metadata": {
        "colab": {
          "base_uri": "https://localhost:8080/"
        },
        "id": "KAaQSnwyjifY",
        "outputId": "f40bd7ae-cc12-4049-aef6-2c61e4619646"
      },
      "execution_count": 47,
      "outputs": [
        {
          "output_type": "stream",
          "name": "stdout",
          "text": [
            "Epoch 1/4: Train Loss: 0.1397, Train Acc: 0.9624, Val Loss: 0.0941, Val Acc: 0.9728\n",
            "Epoch 2/4: Train Loss: 0.0850, Train Acc: 0.9746, Val Loss: 0.0934, Val Acc: 0.9753\n",
            "Epoch 3/4: Train Loss: 0.0764, Train Acc: 0.9774, Val Loss: 0.0885, Val Acc: 0.9778\n",
            "Epoch 4/4: Train Loss: 0.0720, Train Acc: 0.9784, Val Loss: 0.0912, Val Acc: 0.9764\n",
            "CPU times: user 1min 32s, sys: 2.19 s, total: 1min 34s\n",
            "Wall time: 1min 59s\n"
          ]
        }
      ]
    }
  ]
}